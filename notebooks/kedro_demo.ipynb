{
 "cells": [
  {
   "cell_type": "code",
   "execution_count": 1,
   "metadata": {},
   "outputs": [
    {
     "data": {
      "text/plain": [
       "<kedro.io.data_catalog.DataCatalog at 0x11b03af50>"
      ]
     },
     "execution_count": 1,
     "metadata": {},
     "output_type": "execute_result"
    }
   ],
   "source": [
    "catalog"
   ]
  },
  {
   "cell_type": "code",
   "execution_count": 2,
   "metadata": {},
   "outputs": [
    {
     "name": "stdout",
     "output_type": "stream",
     "text": [
      "2020-02-10 09:57:40,319 - kedro.io.data_catalog - INFO - Loading data from `prm_pi_tags` (SparkDataSet)...\n"
     ]
    }
   ],
   "source": [
    "df_pi_tags = catalog.load(\"prm_pi_tags\").toPandas()"
   ]
  },
  {
   "cell_type": "code",
   "execution_count": 3,
   "metadata": {},
   "outputs": [
    {
     "data": {
      "text/html": [
       "<div>\n",
       "<style scoped>\n",
       "    .dataframe tbody tr th:only-of-type {\n",
       "        vertical-align: middle;\n",
       "    }\n",
       "\n",
       "    .dataframe tbody tr th {\n",
       "        vertical-align: top;\n",
       "    }\n",
       "\n",
       "    .dataframe thead th {\n",
       "        text-align: right;\n",
       "    }\n",
       "</style>\n",
       "<table border=\"1\" class=\"dataframe\">\n",
       "  <thead>\n",
       "    <tr style=\"text-align: right;\">\n",
       "      <th></th>\n",
       "      <th>DATE_TIME</th>\n",
       "      <th>TAG_1</th>\n",
       "      <th>TAG_2</th>\n",
       "      <th>TAG_3</th>\n",
       "      <th>TAG_4</th>\n",
       "      <th>TAG_5</th>\n",
       "      <th>TAG_6</th>\n",
       "      <th>TAG_7</th>\n",
       "      <th>TAG_8</th>\n",
       "    </tr>\n",
       "  </thead>\n",
       "  <tbody>\n",
       "    <tr>\n",
       "      <th>0</th>\n",
       "      <td>2020-01-01 09:00:00</td>\n",
       "      <td>123.23</td>\n",
       "      <td>1232.21</td>\n",
       "      <td>123.23</td>\n",
       "      <td>1232.21</td>\n",
       "      <td>123.23</td>\n",
       "      <td>1232.21</td>\n",
       "      <td>123.23</td>\n",
       "      <td>1232.21</td>\n",
       "    </tr>\n",
       "    <tr>\n",
       "      <th>1</th>\n",
       "      <td>2020-01-01 10:00:00</td>\n",
       "      <td>123.23</td>\n",
       "      <td>1232.21</td>\n",
       "      <td>123.23</td>\n",
       "      <td>1232.21</td>\n",
       "      <td>123.23</td>\n",
       "      <td>1232.21</td>\n",
       "      <td>123.23</td>\n",
       "      <td>1232.21</td>\n",
       "    </tr>\n",
       "    <tr>\n",
       "      <th>2</th>\n",
       "      <td>2020-01-01 11:00:00</td>\n",
       "      <td>123.23</td>\n",
       "      <td>1232.21</td>\n",
       "      <td>123.23</td>\n",
       "      <td>1232.21</td>\n",
       "      <td>123.23</td>\n",
       "      <td>1232.21</td>\n",
       "      <td>123.23</td>\n",
       "      <td>1232.21</td>\n",
       "    </tr>\n",
       "    <tr>\n",
       "      <th>3</th>\n",
       "      <td>2020-01-01 12:00:00</td>\n",
       "      <td>123.23</td>\n",
       "      <td>1232.21</td>\n",
       "      <td>123.23</td>\n",
       "      <td>1232.21</td>\n",
       "      <td>123.23</td>\n",
       "      <td>1232.21</td>\n",
       "      <td>123.23</td>\n",
       "      <td>1232.21</td>\n",
       "    </tr>\n",
       "    <tr>\n",
       "      <th>4</th>\n",
       "      <td>2020-01-01 13:00:00</td>\n",
       "      <td>123.23</td>\n",
       "      <td>1232.21</td>\n",
       "      <td>123.23</td>\n",
       "      <td>1232.21</td>\n",
       "      <td>123.23</td>\n",
       "      <td>1232.21</td>\n",
       "      <td>123.23</td>\n",
       "      <td>1232.21</td>\n",
       "    </tr>\n",
       "    <tr>\n",
       "      <th>5</th>\n",
       "      <td>2020-01-01 14:00:00</td>\n",
       "      <td>123.23</td>\n",
       "      <td>1232.21</td>\n",
       "      <td>123.23</td>\n",
       "      <td>1232.21</td>\n",
       "      <td>123.23</td>\n",
       "      <td>1232.21</td>\n",
       "      <td>123.23</td>\n",
       "      <td>1232.21</td>\n",
       "    </tr>\n",
       "    <tr>\n",
       "      <th>6</th>\n",
       "      <td>2020-01-01 15:00:00</td>\n",
       "      <td>123.23</td>\n",
       "      <td>1232.21</td>\n",
       "      <td>123.23</td>\n",
       "      <td>1232.21</td>\n",
       "      <td>123.23</td>\n",
       "      <td>1232.21</td>\n",
       "      <td>123.23</td>\n",
       "      <td>1232.21</td>\n",
       "    </tr>\n",
       "    <tr>\n",
       "      <th>7</th>\n",
       "      <td>2020-01-01 16:00:00</td>\n",
       "      <td>123.23</td>\n",
       "      <td>1232.21</td>\n",
       "      <td>123.23</td>\n",
       "      <td>1232.21</td>\n",
       "      <td>123.23</td>\n",
       "      <td>1232.21</td>\n",
       "      <td>123.23</td>\n",
       "      <td>1232.21</td>\n",
       "    </tr>\n",
       "    <tr>\n",
       "      <th>8</th>\n",
       "      <td>2020-01-01 17:00:00</td>\n",
       "      <td>123.23</td>\n",
       "      <td>1232.21</td>\n",
       "      <td>123.23</td>\n",
       "      <td>1232.21</td>\n",
       "      <td>123.23</td>\n",
       "      <td>1232.21</td>\n",
       "      <td>123.23</td>\n",
       "      <td>1232.21</td>\n",
       "    </tr>\n",
       "  </tbody>\n",
       "</table>\n",
       "</div>"
      ],
      "text/plain": [
       "            DATE_TIME   TAG_1    TAG_2   TAG_3    TAG_4   TAG_5    TAG_6  \\\n",
       "0 2020-01-01 09:00:00  123.23  1232.21  123.23  1232.21  123.23  1232.21   \n",
       "1 2020-01-01 10:00:00  123.23  1232.21  123.23  1232.21  123.23  1232.21   \n",
       "2 2020-01-01 11:00:00  123.23  1232.21  123.23  1232.21  123.23  1232.21   \n",
       "3 2020-01-01 12:00:00  123.23  1232.21  123.23  1232.21  123.23  1232.21   \n",
       "4 2020-01-01 13:00:00  123.23  1232.21  123.23  1232.21  123.23  1232.21   \n",
       "5 2020-01-01 14:00:00  123.23  1232.21  123.23  1232.21  123.23  1232.21   \n",
       "6 2020-01-01 15:00:00  123.23  1232.21  123.23  1232.21  123.23  1232.21   \n",
       "7 2020-01-01 16:00:00  123.23  1232.21  123.23  1232.21  123.23  1232.21   \n",
       "8 2020-01-01 17:00:00  123.23  1232.21  123.23  1232.21  123.23  1232.21   \n",
       "\n",
       "    TAG_7    TAG_8  \n",
       "0  123.23  1232.21  \n",
       "1  123.23  1232.21  \n",
       "2  123.23  1232.21  \n",
       "3  123.23  1232.21  \n",
       "4  123.23  1232.21  \n",
       "5  123.23  1232.21  \n",
       "6  123.23  1232.21  \n",
       "7  123.23  1232.21  \n",
       "8  123.23  1232.21  "
      ]
     },
     "execution_count": 3,
     "metadata": {},
     "output_type": "execute_result"
    }
   ],
   "source": [
    "df_pi_tags"
   ]
  },
  {
   "cell_type": "code",
   "execution_count": 4,
   "metadata": {},
   "outputs": [
    {
     "name": "stderr",
     "output_type": "stream",
     "text": [
      "/opt/anaconda3/envs/kedrodemo/lib/python3.7/site-packages/pandas_profiling/model/correlations.py:35: RuntimeWarning: invalid value encountered in double_scalars\n",
      "  return np.sqrt(phi2corr / min((kcorr - 1.0), (rcorr - 1.0)))\n"
     ]
    },
    {
     "name": "stdout",
     "output_type": "stream",
     "text": [
      "2020-02-10 09:57:50,958 - numexpr.utils - INFO - NumExpr defaulting to 8 threads.\n",
      "2020-02-10 09:57:51,802 - matplotlib.font_manager - INFO - findfont: Found a missing font file.  Rebuilding cache.\n",
      "2020-02-10 09:57:52,338 - matplotlib.font_manager - INFO - Could not open font file /System/Library/Fonts/Supplemental/NISC18030.ttf: In FT2Font: Could not set the fontsize\n",
      "2020-02-10 09:57:52,487 - matplotlib.font_manager - INFO - Could not open font file /System/Library/Fonts/Apple Color Emoji.ttc: In FT2Font: Could not set the fontsize\n",
      "2020-02-10 09:57:52,902 - matplotlib.font_manager - INFO - generated new fontManager\n",
      "2020-02-10 09:57:53,109 - matplotlib.font_manager - INFO - findfont: Found a missing font file.  Rebuilding cache.\n",
      "2020-02-10 09:57:53,258 - matplotlib.font_manager - INFO - Could not open font file /System/Library/Fonts/Supplemental/NISC18030.ttf: In FT2Font: Could not set the fontsize\n",
      "2020-02-10 09:57:53,293 - matplotlib.font_manager - INFO - Could not open font file /System/Library/Fonts/Apple Color Emoji.ttc: In FT2Font: Could not set the fontsize\n",
      "2020-02-10 09:57:53,524 - matplotlib.font_manager - INFO - generated new fontManager\n",
      "2020-02-10 09:57:58,108 - matplotlib.font_manager - INFO - findfont: Found a missing font file.  Rebuilding cache.\n",
      "2020-02-10 09:57:58,265 - matplotlib.font_manager - INFO - Could not open font file /System/Library/Fonts/Supplemental/NISC18030.ttf: In FT2Font: Could not set the fontsize\n",
      "2020-02-10 09:57:58,303 - matplotlib.font_manager - INFO - Could not open font file /System/Library/Fonts/Apple Color Emoji.ttc: In FT2Font: Could not set the fontsize\n",
      "2020-02-10 09:57:58,562 - matplotlib.font_manager - INFO - generated new fontManager\n",
      "2020-02-10 09:57:58,657 - matplotlib.font_manager - INFO - findfont: Found a missing font file.  Rebuilding cache.\n",
      "2020-02-10 09:57:58,813 - matplotlib.font_manager - INFO - Could not open font file /System/Library/Fonts/Supplemental/NISC18030.ttf: In FT2Font: Could not set the fontsize\n",
      "2020-02-10 09:57:58,850 - matplotlib.font_manager - INFO - Could not open font file /System/Library/Fonts/Apple Color Emoji.ttc: In FT2Font: Could not set the fontsize\n",
      "2020-02-10 09:57:59,095 - matplotlib.font_manager - INFO - generated new fontManager\n",
      "2020-02-10 09:57:59,120 - matplotlib.font_manager - INFO - findfont: Found a missing font file.  Rebuilding cache.\n",
      "2020-02-10 09:57:59,276 - matplotlib.font_manager - INFO - Could not open font file /System/Library/Fonts/Supplemental/NISC18030.ttf: In FT2Font: Could not set the fontsize\n",
      "2020-02-10 09:57:59,314 - matplotlib.font_manager - INFO - Could not open font file /System/Library/Fonts/Apple Color Emoji.ttc: In FT2Font: Could not set the fontsize\n",
      "2020-02-10 09:57:59,569 - matplotlib.font_manager - INFO - generated new fontManager\n"
     ]
    }
   ],
   "source": [
    "from pandas_profiling import ProfileReport\n",
    "profile = ProfileReport(df_pi_tags, title='Pandas Profiling Report', html={'style':{'full_width':True}})"
   ]
  },
  {
   "cell_type": "code",
   "execution_count": 5,
   "metadata": {},
   "outputs": [
    {
     "data": {
      "application/vnd.jupyter.widget-view+json": {
       "model_id": "c3316805da77491c9ed2bfbd01176709",
       "version_major": 2,
       "version_minor": 0
      },
      "text/plain": [
       "Tab(children=(HTML(value='<div id=\"overview-content\" class=\"row variable spacing\">\\n    <div class=\"row\">\\n   …"
      ]
     },
     "metadata": {},
     "output_type": "display_data"
    },
    {
     "data": {
      "text/html": [
       "Report generated with <a href=\"https://github.com/pandas-profiling/pandas-profiling\">pandas-profiling</a>."
      ],
      "text/plain": [
       "<IPython.core.display.HTML object>"
      ]
     },
     "metadata": {},
     "output_type": "display_data"
    },
    {
     "data": {
      "text/plain": []
     },
     "execution_count": 5,
     "metadata": {},
     "output_type": "execute_result"
    }
   ],
   "source": [
    "profile"
   ]
  },
  {
   "cell_type": "code",
   "execution_count": null,
   "metadata": {},
   "outputs": [],
   "source": []
  }
 ],
 "metadata": {
  "kernelspec": {
   "display_name": "kedrodemofeb2020",
   "language": "python",
   "name": "python3"
  },
  "language_info": {
   "codemirror_mode": {
    "name": "ipython",
    "version": 3
   },
   "file_extension": ".py",
   "mimetype": "text/x-python",
   "name": "python",
   "nbconvert_exporter": "python",
   "pygments_lexer": "ipython3",
   "version": "3.7.6"
  },
  "toc": {
   "base_numbering": 1,
   "nav_menu": {},
   "number_sections": true,
   "sideBar": true,
   "skip_h1_title": false,
   "title_cell": "Table of Contents",
   "title_sidebar": "Contents",
   "toc_cell": false,
   "toc_position": {},
   "toc_section_display": true,
   "toc_window_display": false
  }
 },
 "nbformat": 4,
 "nbformat_minor": 4
}
